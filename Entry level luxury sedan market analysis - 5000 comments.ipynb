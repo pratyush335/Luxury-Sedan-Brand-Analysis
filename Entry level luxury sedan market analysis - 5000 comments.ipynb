{
 "cells": [
  {
   "cell_type": "markdown",
   "id": "ccfa9fef",
   "metadata": {},
   "source": [
    "# Importing Libraries"
   ]
  },
  {
   "cell_type": "code",
   "execution_count": 272,
   "id": "fdb3839c",
   "metadata": {},
   "outputs": [],
   "source": [
    "import pandas as pd\n",
    "import numpy as np\n",
    "import matplotlib.pyplot as plt\n",
    "import re\n",
    "import sys\n",
    "import string\n",
    "import nltk\n",
    "from nltk.corpus import stopwords\n",
    "from itertools import combinations\n",
    "from sklearn.manifold import MDS\n",
    "from collections import Counter\n",
    "from tqdm import tqdm\n",
    "\n",
    "\n",
    "\n",
    "from selenium import webdriver\n",
    "from selenium.webdriver.common.by import By\n",
    "chrome_options = webdriver.ChromeOptions()\n",
    "#headless means running chrome with chrome.exe\n",
    "chrome_options.add_argument('--headless')\n",
    "\n",
    "chrome_options.add_argument('--no-sandbox')\n",
    "chrome_options.add_argument('--disable-dev-shm-usage')"
   ]
  },
  {
   "cell_type": "markdown",
   "id": "84448913",
   "metadata": {},
   "source": [
    "# Scraping User Comments\n",
    "\n",
    "**Order of comments: Latest First**"
   ]
  },
  {
   "cell_type": "markdown",
   "id": "bda74a33",
   "metadata": {},
   "source": [
    "User"
   ]
  },
  {
   "cell_type": "code",
   "execution_count": 258,
   "id": "9ac1dc58",
   "metadata": {},
   "outputs": [
    {
     "data": {
      "text/plain": [
       "'carnaught'"
      ]
     },
     "execution_count": 258,
     "metadata": {},
     "output_type": "execute_result"
    }
   ],
   "source": [
    "user = comments[-1].find_element(By.CLASS_NAME, \"Username.js-userCard.js-userCardInitialized\").text\n",
    "user"
   ]
  },
  {
   "cell_type": "markdown",
   "id": "759f6839",
   "metadata": {},
   "source": [
    "Posts"
   ]
  },
  {
   "cell_type": "code",
   "execution_count": 210,
   "id": "93c16a60",
   "metadata": {},
   "outputs": [
    {
     "data": {
      "text/plain": [
       "'235085'"
      ]
     },
     "execution_count": 210,
     "metadata": {},
     "output_type": "execute_result"
    }
   ],
   "source": [
    "posts = elements[0].find_element(By.CLASS_NAME, 'MItem.PostCount').text.split()[-1].replace(',','')\n",
    "posts"
   ]
  },
  {
   "cell_type": "markdown",
   "id": "cd05010e",
   "metadata": {},
   "source": [
    "Time"
   ]
  },
  {
   "cell_type": "code",
   "execution_count": 214,
   "id": "ce594515",
   "metadata": {},
   "outputs": [
    {
     "data": {
      "text/plain": [
       "'2020-02-25T19:38:57+00:00'"
      ]
     },
     "execution_count": 214,
     "metadata": {},
     "output_type": "execute_result"
    }
   ],
   "source": [
    "time = elements[0].find_element(By.TAG_NAME, 'time').get_attribute(\"datetime\")\n",
    "time"
   ]
  },
  {
   "cell_type": "markdown",
   "id": "1dff0635",
   "metadata": {},
   "source": [
    "Comment"
   ]
  },
  {
   "cell_type": "code",
   "execution_count": 260,
   "id": "367479c8",
   "metadata": {},
   "outputs": [],
   "source": [
    "backquote = comments[-1].find_element(By.CLASS_NAME, 'QuoteText.blockquote-content').text.replace('show previous quotes', '').split()\n",
    "\n",
    "backquote = ' '.join(backquote)"
   ]
  },
  {
   "cell_type": "code",
   "execution_count": 261,
   "id": "2bd903de",
   "metadata": {
    "scrolled": true
   },
   "outputs": [
    {
     "data": {
      "text/plain": [
       "'@explorerx4 : How do you like your Lincoln MKZ? As you may have seen, a friend of mine just got a 2018 MKZ and so far he loves it.'"
      ]
     },
     "execution_count": 261,
     "metadata": {},
     "output_type": "execute_result"
    }
   ],
   "source": [
    "backquote"
   ]
  },
  {
   "cell_type": "code",
   "execution_count": 272,
   "id": "7bc06532",
   "metadata": {},
   "outputs": [
    {
     "data": {
      "text/plain": [
       "'benjaminh said: @explorerx4 : How do you like your Lincoln MKZ? As you may have seen, a friend of mine just got a 2018 MKZ and so far he loves it. It’s a nice car. They should have updated instead of eliminating it.'"
      ]
     },
     "execution_count": 272,
     "metadata": {},
     "output_type": "execute_result"
    }
   ],
   "source": [
    "comment_text = comments[-1].find_element(By.CLASS_NAME, 'Message.userContent').text.strip().split()\n",
    "\n",
    "comment_text = ' '.join(comment_text)\n",
    "comment_text"
   ]
  },
  {
   "cell_type": "code",
   "execution_count": 266,
   "id": "986ef849",
   "metadata": {},
   "outputs": [],
   "source": [
    "comment_text = comment_text.replace(backquote, \"\").strip()"
   ]
  },
  {
   "cell_type": "code",
   "execution_count": 267,
   "id": "631220c0",
   "metadata": {},
   "outputs": [
    {
     "data": {
      "text/plain": [
       "'benjaminh said:  It’s a nice car. They should have updated instead of eliminating it.'"
      ]
     },
     "execution_count": 267,
     "metadata": {},
     "output_type": "execute_result"
    }
   ],
   "source": [
    "comment_text"
   ]
  },
  {
   "cell_type": "markdown",
   "id": "f61c5410",
   "metadata": {},
   "source": [
    "## Extracting 5000 most recent comments"
   ]
  },
  {
   "cell_type": "code",
   "execution_count": 275,
   "id": "9864deff",
   "metadata": {},
   "outputs": [],
   "source": [
    "wd = webdriver.Chrome(options=chrome_options)"
   ]
  },
  {
   "cell_type": "code",
   "execution_count": 1,
   "id": "5a31c55e",
   "metadata": {},
   "outputs": [],
   "source": [
    "n = 5000\n",
    "data = {'comments':[]}\n",
    "user_dict = {}\n",
    "posts_dict = {}\n",
    "time_dict = {}\n",
    "i = 435\n",
    "\n",
    "while len(data['comments'])<n:\n",
    "    \n",
    "    url = 'https://forums.edmunds.com/discussion/2864/general/x/entry-level-luxury-performance-sedans'+'/p'+str(i)\n",
    "    wd.get(url)\n",
    "    comments = wd.find_elements(By.CLASS_NAME, 'Comment')\n",
    "    \n",
    "    for comment in reversed(comments):\n",
    "        user = comment.find_element(By.CLASS_NAME, \"Username.js-userCard.js-userCardInitialized\").text\n",
    "        posts = comment.find_element(By.CLASS_NAME, 'MItem.PostCount').text.split()[-1].replace(',','')\n",
    "        time = comment.find_element(By.TAG_NAME, 'time').get_attribute(\"datetime\")\n",
    "\n",
    "        try:\n",
    "            backquote = comment.find_element(By.CLASS_NAME, 'QuoteText.blockquote-content')\\\n",
    "            .text.replace('show previous quotes', '').split()\n",
    "            backquote = ' '.join(backquote)\n",
    "        except:\n",
    "            backquote = ''\n",
    "\n",
    "        comment_text = comment.find_element(By.CLASS_NAME, 'Message.userContent').text.strip().split()\n",
    "        comment_text = ' '.join(comment_text)\n",
    "\n",
    "        if backquote!='':\n",
    "            comment_text = comment_text.replace(backquote, \"\").strip()\n",
    "\n",
    "        user_dict[comment_text] = user\n",
    "        posts_dict[comment_text] = posts\n",
    "        time_dict[comment_text] = time\n",
    "\n",
    "\n",
    "        if comment_text not in data:\n",
    "            data['comments'].append(comment_text)\n",
    "    \n",
    "    i = i - 1"
   ]
  },
  {
   "cell_type": "code",
   "execution_count": 327,
   "id": "362120ea",
   "metadata": {},
   "outputs": [],
   "source": [
    "comments_df = pd.DataFrame(data)\n",
    "user_df = pd.DataFrame(list(user_dict.items()), columns=['comments', 'username'])\n",
    "time_df = pd.DataFrame(list(time_dict.items()), columns=['comments', 'time'])\n",
    "posts_df = pd.DataFrame(list(posts_dict.items()), columns=['comments', 'posts_count'])\n",
    "\n",
    "# Merge DataFrames\n",
    "merged_df = comments_df.merge(user_df, on='comments').merge(time_df, on='comments').merge(posts_df, on='comments')"
   ]
  },
  {
   "cell_type": "code",
   "execution_count": 338,
   "id": "f186ffa2",
   "metadata": {},
   "outputs": [],
   "source": [
    "a = merged_df"
   ]
  },
  {
   "cell_type": "code",
   "execution_count": 340,
   "id": "17dd7eb0",
   "metadata": {},
   "outputs": [],
   "source": [
    "a.drop_duplicates(inplace=True)"
   ]
  },
  {
   "cell_type": "code",
   "execution_count": 344,
   "id": "e0c52ba8",
   "metadata": {},
   "outputs": [],
   "source": [
    "# a.iloc[:5000,:].to_csv('5000.csv', index=False)"
   ]
  },
  {
   "cell_type": "markdown",
   "id": "20c1a043",
   "metadata": {},
   "source": [
    "# Replace Car Models with Brands"
   ]
  },
  {
   "cell_type": "code",
   "execution_count": 193,
   "id": "29f52d3f",
   "metadata": {},
   "outputs": [],
   "source": [
    "df = pd.read_csv('5000.csv') #comments dataframe"
   ]
  },
  {
   "cell_type": "markdown",
   "id": "827165b7",
   "metadata": {},
   "source": [
    "## Importing Brand-Model data"
   ]
  },
  {
   "cell_type": "code",
   "execution_count": 194,
   "id": "8ba4d716",
   "metadata": {},
   "outputs": [],
   "source": [
    "brands_df = pd.read_csv('car_models_and_brands.csv') #brands and models database"
   ]
  },
  {
   "cell_type": "markdown",
   "id": "78ec30e9",
   "metadata": {},
   "source": [
    "Let's check for anomalies in this dataset..."
   ]
  },
  {
   "cell_type": "code",
   "execution_count": 195,
   "id": "673ebc8a",
   "metadata": {
    "scrolled": true
   },
   "outputs": [
    {
     "data": {
      "text/html": [
       "<div>\n",
       "<style scoped>\n",
       "    .dataframe tbody tr th:only-of-type {\n",
       "        vertical-align: middle;\n",
       "    }\n",
       "\n",
       "    .dataframe tbody tr th {\n",
       "        vertical-align: top;\n",
       "    }\n",
       "\n",
       "    .dataframe thead th {\n",
       "        text-align: right;\n",
       "    }\n",
       "</style>\n",
       "<table border=\"1\" class=\"dataframe\">\n",
       "  <thead>\n",
       "    <tr style=\"text-align: right;\">\n",
       "      <th></th>\n",
       "      <th>Brand</th>\n",
       "      <th>Model</th>\n",
       "    </tr>\n",
       "  </thead>\n",
       "  <tbody>\n",
       "    <tr>\n",
       "      <th>52</th>\n",
       "      <td>car</td>\n",
       "      <td>cars</td>\n",
       "    </tr>\n",
       "  </tbody>\n",
       "</table>\n",
       "</div>"
      ],
      "text/plain": [
       "   Brand Model\n",
       "52   car  cars"
      ]
     },
     "execution_count": 195,
     "metadata": {},
     "output_type": "execute_result"
    }
   ],
   "source": [
    "brands_df[brands_df['Brand'] == 'car']"
   ]
  },
  {
   "cell_type": "markdown",
   "id": "5c321e57",
   "metadata": {},
   "source": [
    "dropping the brand 'car', 'seat', 'sedan', and 'problem'"
   ]
  },
  {
   "cell_type": "code",
   "execution_count": 198,
   "id": "a53db7d8",
   "metadata": {},
   "outputs": [],
   "source": [
    "brands_df.drop(brands_df[brands_df['Brand'].isin(['car', 'sedan', 'seat', 'problem'])].index, inplace=True)"
   ]
  },
  {
   "cell_type": "markdown",
   "id": "f8b4e596",
   "metadata": {},
   "source": [
    "dataset mentions two similar models..."
   ]
  },
  {
   "cell_type": "code",
   "execution_count": 199,
   "id": "7dbca9c8",
   "metadata": {
    "scrolled": false
   },
   "outputs": [
    {
     "data": {
      "text/html": [
       "<div>\n",
       "<style scoped>\n",
       "    .dataframe tbody tr th:only-of-type {\n",
       "        vertical-align: middle;\n",
       "    }\n",
       "\n",
       "    .dataframe tbody tr th {\n",
       "        vertical-align: top;\n",
       "    }\n",
       "\n",
       "    .dataframe thead th {\n",
       "        text-align: right;\n",
       "    }\n",
       "</style>\n",
       "<table border=\"1\" class=\"dataframe\">\n",
       "  <thead>\n",
       "    <tr style=\"text-align: right;\">\n",
       "      <th></th>\n",
       "      <th>Brand</th>\n",
       "      <th>Model</th>\n",
       "    </tr>\n",
       "  </thead>\n",
       "  <tbody>\n",
       "    <tr>\n",
       "      <th>410</th>\n",
       "      <td>toyota</td>\n",
       "      <td>corolla/sprinter</td>\n",
       "    </tr>\n",
       "  </tbody>\n",
       "</table>\n",
       "</div>"
      ],
      "text/plain": [
       "      Brand             Model\n",
       "410  toyota  corolla/sprinter"
      ]
     },
     "execution_count": 199,
     "metadata": {},
     "output_type": "execute_result"
    }
   ],
   "source": [
    "brands_df[brands_df['Model'].map(lambda x: '/' in x)]"
   ]
  },
  {
   "cell_type": "code",
   "execution_count": 200,
   "id": "b4435817",
   "metadata": {},
   "outputs": [],
   "source": [
    "def generate_corpus(column):\n",
    "    corpus = \" \"\n",
    "    for text in column:\n",
    "        text = str(text)\n",
    "        for i in list(string.punctuation.replace('+','')):\n",
    "            text = text.replace(i, ' ')\n",
    "        text = text.lower()\n",
    "\n",
    "        corpus += text\n",
    "    return corpus"
   ]
  },
  {
   "cell_type": "code",
   "execution_count": 201,
   "id": "31ef0d7a",
   "metadata": {},
   "outputs": [],
   "source": [
    "corpus_words = generate_corpus(df['comments'])"
   ]
  },
  {
   "cell_type": "code",
   "execution_count": 202,
   "id": "30d64764",
   "metadata": {
    "scrolled": true
   },
   "outputs": [
    {
     "data": {
      "text/plain": [
       "0"
      ]
     },
     "execution_count": 202,
     "metadata": {},
     "output_type": "execute_result"
    }
   ],
   "source": [
    "corpus_words.count('sprinter')"
   ]
  },
  {
   "cell_type": "code",
   "execution_count": 203,
   "id": "37e84cf6",
   "metadata": {
    "scrolled": true
   },
   "outputs": [],
   "source": [
    "brands_df.loc[brands_df['Model'].map(lambda x: '/' in x)] = 'corolla'"
   ]
  },
  {
   "cell_type": "markdown",
   "id": "58dbae11",
   "metadata": {},
   "source": [
    "Let's check if there are spaces or punctuations in between the model names..."
   ]
  },
  {
   "cell_type": "code",
   "execution_count": 204,
   "id": "101aac53",
   "metadata": {},
   "outputs": [
    {
     "data": {
      "text/plain": [
       "['park avenue', 'la crosse', 'grand blazer']"
      ]
     },
     "execution_count": 204,
     "metadata": {},
     "output_type": "execute_result"
    }
   ],
   "source": [
    "[x for x in brands_df['Model'] if any(char in string.whitespace for char in x)][:3]"
   ]
  },
  {
   "cell_type": "code",
   "execution_count": 205,
   "id": "03a68b49",
   "metadata": {},
   "outputs": [
    {
     "data": {
      "text/plain": [
       "['3-series',\n",
       " '5-series',\n",
       " '6-series',\n",
       " '4-series',\n",
       " 's-10',\n",
       " 'f-150',\n",
       " 'c-max',\n",
       " 's-max',\n",
       " 'n-box',\n",
       " 'n-one',\n",
       " 'n-wgn',\n",
       " 'cr-v',\n",
       " 'ex-l',\n",
       " 'cr-z',\n",
       " 'excel,',\n",
       " 'excel.',\n",
       " 'az-offroad',\n",
       " 'az-wagon',\n",
       " 'rx-8',\n",
       " 'cx-7',\n",
       " 'bt-50',\n",
       " 'rx-8',\n",
       " 'mx-5',\n",
       " 'cx-5',\n",
       " 'cx-9',\n",
       " 'mercedes-benz',\n",
       " 'cl-class',\n",
       " 'c-class',\n",
       " 'e-class',\n",
       " 's-class',\n",
       " 'quest.',\n",
       " 'quest,',\n",
       " 'x-90']"
      ]
     },
     "execution_count": 205,
     "metadata": {},
     "output_type": "execute_result"
    }
   ],
   "source": [
    "[x for x in brands_df['Model'] if any(char in string.punctuation for char in x)]"
   ]
  },
  {
   "cell_type": "markdown",
   "id": "47b98716",
   "metadata": {},
   "source": [
    "Dictionary with Model: Brand mapping\n",
    "> The dictionary will map the brands with their corresponding model names"
   ]
  },
  {
   "cell_type": "code",
   "execution_count": 206,
   "id": "ad17d3f9",
   "metadata": {},
   "outputs": [],
   "source": [
    "brand_model = {}\n",
    "for brand, model in zip(brands_df['Brand'], brands_df['Model']):\n",
    "    if brand not in brand_model.keys():\n",
    "        brand_model[brand] = []\n",
    "    brand_model[brand].append(model)\n",
    "    for j in list(string.punctuation + string.whitespace):\n",
    "            if j in model: \n",
    "                model1 = model.replace(j,'')\n",
    "                brand_model[brand].append(model1)\n",
    "            else: continue"
   ]
  },
  {
   "cell_type": "markdown",
   "id": "3d02328c",
   "metadata": {},
   "source": [
    "Replacing models with Brands"
   ]
  },
  {
   "cell_type": "code",
   "execution_count": 207,
   "id": "30c7285d",
   "metadata": {},
   "outputs": [],
   "source": [
    "#function to clean the list of scraped comments\n",
    "def clean(column):\n",
    "    data = list(column)\n",
    "    for i in range(len(data)):\n",
    "        text = str(data[i])\n",
    "        for punct in list(string.punctuation):\n",
    "             text = text.replace(punct, ' ')\n",
    "        text = text.lower()\n",
    "        data[i] = text\n",
    "    return data"
   ]
  },
  {
   "cell_type": "code",
   "execution_count": 208,
   "id": "0b7ff524",
   "metadata": {},
   "outputs": [],
   "source": [
    "comments_list = clean(df['comments']) #list of clean comments "
   ]
  },
  {
   "cell_type": "code",
   "execution_count": 209,
   "id": "8dbdc6c1",
   "metadata": {},
   "outputs": [],
   "source": [
    "def replace_brands(wordlist, dic):\n",
    "    count=0\n",
    "    for brand, models in dic.items():\n",
    "        for i in range(len(wordlist)):\n",
    "            for model in models:\n",
    "                if model in wordlist[i]:\n",
    "                    wordlist[i] = wordlist[i].replace(model, ' '+ brand + ' ')\n",
    "                    count+=1\n",
    "    return wordlist, count"
   ]
  },
  {
   "cell_type": "code",
   "execution_count": 210,
   "id": "18f42950",
   "metadata": {},
   "outputs": [],
   "source": [
    "clean_comments, replaced = replace_brands(comments_list, brand_model)"
   ]
  },
  {
   "cell_type": "code",
   "execution_count": 211,
   "id": "990756d1",
   "metadata": {},
   "outputs": [
    {
     "data": {
      "text/plain": [
       "8212"
      ]
     },
     "execution_count": 211,
     "metadata": {},
     "output_type": "execute_result"
    }
   ],
   "source": [
    "replaced"
   ]
  },
  {
   "cell_type": "markdown",
   "id": "0b40c85f",
   "metadata": {},
   "source": [
    "# Top 10 brands\n",
    "\n",
    "As per brand mentions in user conversations"
   ]
  },
  {
   "cell_type": "code",
   "execution_count": 212,
   "id": "ec5dcfa4",
   "metadata": {},
   "outputs": [],
   "source": [
    "brand_count = {}\n",
    "for brand in brand_model.keys():\n",
    "    brand_count[brand] = 0\n",
    "\n",
    "for i in range(len(clean_comments)):\n",
    "    text = clean_comments[i].split()\n",
    "    for brand in list(brand_count.keys()):\n",
    "        if brand in text:\n",
    "            brand_count[brand] += 1"
   ]
  },
  {
   "cell_type": "code",
   "execution_count": 213,
   "id": "c1534547",
   "metadata": {},
   "outputs": [
    {
     "data": {
      "text/html": [
       "<div>\n",
       "<style scoped>\n",
       "    .dataframe tbody tr th:only-of-type {\n",
       "        vertical-align: middle;\n",
       "    }\n",
       "\n",
       "    .dataframe tbody tr th {\n",
       "        vertical-align: top;\n",
       "    }\n",
       "\n",
       "    .dataframe thead th {\n",
       "        text-align: right;\n",
       "    }\n",
       "</style>\n",
       "<table border=\"1\" class=\"dataframe\">\n",
       "  <thead>\n",
       "    <tr style=\"text-align: right;\">\n",
       "      <th></th>\n",
       "      <th>Brand</th>\n",
       "      <th>Count</th>\n",
       "    </tr>\n",
       "  </thead>\n",
       "  <tbody>\n",
       "    <tr>\n",
       "      <th>0</th>\n",
       "      <td>toyota</td>\n",
       "      <td>2500</td>\n",
       "    </tr>\n",
       "    <tr>\n",
       "      <th>1</th>\n",
       "      <td>bmw</td>\n",
       "      <td>1075</td>\n",
       "    </tr>\n",
       "    <tr>\n",
       "      <th>2</th>\n",
       "      <td>audi</td>\n",
       "      <td>953</td>\n",
       "    </tr>\n",
       "    <tr>\n",
       "      <th>3</th>\n",
       "      <td>honda</td>\n",
       "      <td>631</td>\n",
       "    </tr>\n",
       "    <tr>\n",
       "      <th>4</th>\n",
       "      <td>acura</td>\n",
       "      <td>552</td>\n",
       "    </tr>\n",
       "    <tr>\n",
       "      <th>5</th>\n",
       "      <td>chrysler</td>\n",
       "      <td>425</td>\n",
       "    </tr>\n",
       "    <tr>\n",
       "      <th>6</th>\n",
       "      <td>volkswagen</td>\n",
       "      <td>274</td>\n",
       "    </tr>\n",
       "    <tr>\n",
       "      <th>7</th>\n",
       "      <td>dodge</td>\n",
       "      <td>229</td>\n",
       "    </tr>\n",
       "    <tr>\n",
       "      <th>8</th>\n",
       "      <td>cadillac</td>\n",
       "      <td>222</td>\n",
       "    </tr>\n",
       "    <tr>\n",
       "      <th>9</th>\n",
       "      <td>mercedes-benz</td>\n",
       "      <td>212</td>\n",
       "    </tr>\n",
       "  </tbody>\n",
       "</table>\n",
       "</div>"
      ],
      "text/plain": [
       "           Brand  Count\n",
       "0         toyota   2500\n",
       "1            bmw   1075\n",
       "2           audi    953\n",
       "3          honda    631\n",
       "4          acura    552\n",
       "5       chrysler    425\n",
       "6     volkswagen    274\n",
       "7          dodge    229\n",
       "8       cadillac    222\n",
       "9  mercedes-benz    212"
      ]
     },
     "execution_count": 213,
     "metadata": {},
     "output_type": "execute_result"
    }
   ],
   "source": [
    "brand_freq = []\n",
    "for brand, count in brand_count.items():\n",
    "    brand_freq.append([brand, count])\n",
    "\n",
    "brand_freq = pd.DataFrame(brand_freq, columns=['Brand', 'Count'])\n",
    "brand_freq = brand_freq.sort_values('Count', ascending=False).reset_index(drop=True)\n",
    "brand_freq[:10]"
   ]
  },
  {
   "cell_type": "code",
   "execution_count": 214,
   "id": "5fee86da",
   "metadata": {},
   "outputs": [],
   "source": [
    "top_10_brands = list(brand_freq['Brand'][:10])"
   ]
  },
  {
   "cell_type": "markdown",
   "id": "491475c4",
   "metadata": {},
   "source": [
    "# LIFT Ratios for Association"
   ]
  },
  {
   "cell_type": "code",
   "execution_count": 215,
   "id": "8b0cfaac",
   "metadata": {
    "scrolled": false
   },
   "outputs": [
    {
     "data": {
      "text/plain": [
       "['toyota',\n",
       " 'bmw',\n",
       " 'audi',\n",
       " 'honda',\n",
       " 'acura',\n",
       " 'chrysler',\n",
       " 'volkswagen',\n",
       " 'dodge',\n",
       " 'cadillac',\n",
       " 'mercedes-benz']"
      ]
     },
     "execution_count": 215,
     "metadata": {},
     "output_type": "execute_result"
    }
   ],
   "source": [
    "top_10_brands"
   ]
  },
  {
   "cell_type": "code",
   "execution_count": 216,
   "id": "67d1f663",
   "metadata": {},
   "outputs": [],
   "source": [
    "def calculate_lift(comment, brand1, brand2, word_distance_threshold=6):\n",
    "    tokens = comment.split()\n",
    "\n",
    "    # generate all combinations of indices/words without repetition\n",
    "    for i, j in combinations(brand1_indices + brand2_indices, 2):\n",
    "        # Check if the word distance is within the threshold i.e. 6\n",
    "        if abs(i - j) <= word_distance_threshold:\n",
    "            lift_count += 1\n",
    "\n",
    "    lift_ratio = (lift_count / total_count) / ((len(brand1_indices) / total_count) * (len(brand2_indices) / total_count))\n",
    "\n",
    "    return lift_ratio"
   ]
  },
  {
   "cell_type": "code",
   "execution_count": 217,
   "id": "2fb20858",
   "metadata": {},
   "outputs": [],
   "source": [
    "def lift(comments, brand1, brand2, words=float('inf')):\n",
    "    n = len(comments)\n",
    "    count_brand1 = 0\n",
    "    count_brand2 = 0\n",
    "    count_brand1_brand2 = 0\n",
    "\n",
    "    for i in range(n):\n",
    "\n",
    "        comment = comments[i].split()\n",
    "\n",
    "        # storing indices of brands found in the comment\n",
    "        brand1_indices = [i for i, word in enumerate(comment) if word == brand1]\n",
    "        brand2_indices = [i for i, word in enumerate(comment) if word == brand2]\n",
    "\n",
    "        both_brands = []    \n",
    "        for brand1_index in brand1_indices:\n",
    "            for brand2_index in brand2_indices:\n",
    "                both_brands.append(abs(brand1_index - brand2_index)-1) # adding no of words in between brands\n",
    "                                                                       # thus reducing by 1 as index starts at 0\n",
    "\n",
    "        if len(both_brands) > 0:\n",
    "            if float(min(both_brands)) <= float(words):\n",
    "                count_brand1_brand2 += 1\n",
    "        if len(brand1_indices) > 0:\n",
    "            count_brand1 += 1\n",
    "        if len(brand2_indices) > 0:\n",
    "            count_brand2 += 1\n",
    "    \n",
    "    lift = (n * count_brand1_brand2) / (count_brand1 * count_brand2)\n",
    "    return lift"
   ]
  },
  {
   "cell_type": "code",
   "execution_count": 218,
   "id": "8b92379d",
   "metadata": {},
   "outputs": [],
   "source": [
    "example = ['toyota is way better than acura in my opinion',\n",
    " 'acura and lexus are still way ahead than toyota', 'toyota is the most safe brand to buy at this point of time', 'i would advice to buy acura than toyota']"
   ]
  },
  {
   "cell_type": "code",
   "execution_count": 219,
   "id": "270def38",
   "metadata": {},
   "outputs": [
    {
     "data": {
      "text/plain": [
       "0.6666666666666666"
      ]
     },
     "execution_count": 219,
     "metadata": {},
     "output_type": "execute_result"
    }
   ],
   "source": [
    "lift(example, 'toyota', 'acura', 6)"
   ]
  },
  {
   "cell_type": "code",
   "execution_count": 220,
   "id": "0265fcc6",
   "metadata": {},
   "outputs": [],
   "source": [
    "lift_scores = []\n",
    "\n",
    "for i in range(len(top_10_brands)):\n",
    "    row = []\n",
    "\n",
    "    for j in range(len(top_10_brands)):\n",
    "        if j!=i:\n",
    "            lift_score = lift(clean_comments, top_10_brands[i], top_10_brands[j])\n",
    "            row.append(lift_score)\n",
    "        elif i==j:\n",
    "            row.append(1)\n",
    "    \n",
    "    row.append(top_10_brands[i])\n",
    "    lift_scores.append(row)"
   ]
  },
  {
   "cell_type": "code",
   "execution_count": 221,
   "id": "a163fdb1",
   "metadata": {},
   "outputs": [
    {
     "data": {
      "text/html": [
       "<div>\n",
       "<style scoped>\n",
       "    .dataframe tbody tr th:only-of-type {\n",
       "        vertical-align: middle;\n",
       "    }\n",
       "\n",
       "    .dataframe tbody tr th {\n",
       "        vertical-align: top;\n",
       "    }\n",
       "\n",
       "    .dataframe thead th {\n",
       "        text-align: right;\n",
       "    }\n",
       "</style>\n",
       "<table border=\"1\" class=\"dataframe\">\n",
       "  <thead>\n",
       "    <tr style=\"text-align: right;\">\n",
       "      <th></th>\n",
       "      <th>toyota</th>\n",
       "      <th>bmw</th>\n",
       "      <th>audi</th>\n",
       "      <th>honda</th>\n",
       "      <th>acura</th>\n",
       "      <th>chrysler</th>\n",
       "      <th>volkswagen</th>\n",
       "      <th>dodge</th>\n",
       "      <th>cadillac</th>\n",
       "      <th>mercedes-benz</th>\n",
       "    </tr>\n",
       "    <tr>\n",
       "      <th>Brand</th>\n",
       "      <th></th>\n",
       "      <th></th>\n",
       "      <th></th>\n",
       "      <th></th>\n",
       "      <th></th>\n",
       "      <th></th>\n",
       "      <th></th>\n",
       "      <th></th>\n",
       "      <th></th>\n",
       "      <th></th>\n",
       "    </tr>\n",
       "  </thead>\n",
       "  <tbody>\n",
       "    <tr>\n",
       "      <th>toyota</th>\n",
       "      <td>1.000000</td>\n",
       "      <td>1.138605</td>\n",
       "      <td>1.177335</td>\n",
       "      <td>1.223455</td>\n",
       "      <td>1.065217</td>\n",
       "      <td>1.011765</td>\n",
       "      <td>1.233577</td>\n",
       "      <td>1.283843</td>\n",
       "      <td>1.288288</td>\n",
       "      <td>1.254717</td>\n",
       "    </tr>\n",
       "    <tr>\n",
       "      <th>bmw</th>\n",
       "      <td>1.138605</td>\n",
       "      <td>1.000000</td>\n",
       "      <td>1.854608</td>\n",
       "      <td>1.385766</td>\n",
       "      <td>1.449275</td>\n",
       "      <td>1.225718</td>\n",
       "      <td>1.307079</td>\n",
       "      <td>1.279578</td>\n",
       "      <td>1.990362</td>\n",
       "      <td>3.400614</td>\n",
       "    </tr>\n",
       "    <tr>\n",
       "      <th>audi</th>\n",
       "      <td>1.177335</td>\n",
       "      <td>1.854608</td>\n",
       "      <td>1.000000</td>\n",
       "      <td>1.845868</td>\n",
       "      <td>2.081527</td>\n",
       "      <td>1.752978</td>\n",
       "      <td>2.374369</td>\n",
       "      <td>1.970335</td>\n",
       "      <td>2.741461</td>\n",
       "      <td>3.291493</td>\n",
       "    </tr>\n",
       "    <tr>\n",
       "      <th>honda</th>\n",
       "      <td>1.223455</td>\n",
       "      <td>1.385766</td>\n",
       "      <td>1.845868</td>\n",
       "      <td>1.000000</td>\n",
       "      <td>2.899699</td>\n",
       "      <td>2.703459</td>\n",
       "      <td>1.821926</td>\n",
       "      <td>1.695513</td>\n",
       "      <td>1.748976</td>\n",
       "      <td>2.317376</td>\n",
       "    </tr>\n",
       "    <tr>\n",
       "      <th>acura</th>\n",
       "      <td>1.065217</td>\n",
       "      <td>1.449275</td>\n",
       "      <td>2.081527</td>\n",
       "      <td>2.899699</td>\n",
       "      <td>1.000000</td>\n",
       "      <td>4.923274</td>\n",
       "      <td>1.289273</td>\n",
       "      <td>1.661287</td>\n",
       "      <td>2.570505</td>\n",
       "      <td>3.161745</td>\n",
       "    </tr>\n",
       "    <tr>\n",
       "      <th>chrysler</th>\n",
       "      <td>1.011765</td>\n",
       "      <td>1.225718</td>\n",
       "      <td>1.752978</td>\n",
       "      <td>2.703459</td>\n",
       "      <td>4.923274</td>\n",
       "      <td>1.000000</td>\n",
       "      <td>0.944611</td>\n",
       "      <td>1.952222</td>\n",
       "      <td>2.225755</td>\n",
       "      <td>2.275250</td>\n",
       "    </tr>\n",
       "    <tr>\n",
       "      <th>volkswagen</th>\n",
       "      <td>1.233577</td>\n",
       "      <td>1.307079</td>\n",
       "      <td>2.374369</td>\n",
       "      <td>1.821926</td>\n",
       "      <td>1.289273</td>\n",
       "      <td>0.944611</td>\n",
       "      <td>1.000000</td>\n",
       "      <td>1.115609</td>\n",
       "      <td>1.479582</td>\n",
       "      <td>1.979755</td>\n",
       "    </tr>\n",
       "    <tr>\n",
       "      <th>dodge</th>\n",
       "      <td>1.283843</td>\n",
       "      <td>1.279578</td>\n",
       "      <td>1.970335</td>\n",
       "      <td>1.695513</td>\n",
       "      <td>1.661287</td>\n",
       "      <td>1.952222</td>\n",
       "      <td>1.115609</td>\n",
       "      <td>1.000000</td>\n",
       "      <td>1.671978</td>\n",
       "      <td>1.956826</td>\n",
       "    </tr>\n",
       "    <tr>\n",
       "      <th>cadillac</th>\n",
       "      <td>1.288288</td>\n",
       "      <td>1.990362</td>\n",
       "      <td>2.741461</td>\n",
       "      <td>1.748976</td>\n",
       "      <td>2.570505</td>\n",
       "      <td>2.225755</td>\n",
       "      <td>1.479582</td>\n",
       "      <td>1.671978</td>\n",
       "      <td>1.000000</td>\n",
       "      <td>5.736869</td>\n",
       "    </tr>\n",
       "    <tr>\n",
       "      <th>mercedes-benz</th>\n",
       "      <td>1.254717</td>\n",
       "      <td>3.400614</td>\n",
       "      <td>3.291493</td>\n",
       "      <td>2.317376</td>\n",
       "      <td>3.161745</td>\n",
       "      <td>2.275250</td>\n",
       "      <td>1.979755</td>\n",
       "      <td>1.956826</td>\n",
       "      <td>5.736869</td>\n",
       "      <td>1.000000</td>\n",
       "    </tr>\n",
       "  </tbody>\n",
       "</table>\n",
       "</div>"
      ],
      "text/plain": [
       "                 toyota       bmw      audi     honda     acura  chrysler  \\\n",
       "Brand                                                                       \n",
       "toyota         1.000000  1.138605  1.177335  1.223455  1.065217  1.011765   \n",
       "bmw            1.138605  1.000000  1.854608  1.385766  1.449275  1.225718   \n",
       "audi           1.177335  1.854608  1.000000  1.845868  2.081527  1.752978   \n",
       "honda          1.223455  1.385766  1.845868  1.000000  2.899699  2.703459   \n",
       "acura          1.065217  1.449275  2.081527  2.899699  1.000000  4.923274   \n",
       "chrysler       1.011765  1.225718  1.752978  2.703459  4.923274  1.000000   \n",
       "volkswagen     1.233577  1.307079  2.374369  1.821926  1.289273  0.944611   \n",
       "dodge          1.283843  1.279578  1.970335  1.695513  1.661287  1.952222   \n",
       "cadillac       1.288288  1.990362  2.741461  1.748976  2.570505  2.225755   \n",
       "mercedes-benz  1.254717  3.400614  3.291493  2.317376  3.161745  2.275250   \n",
       "\n",
       "               volkswagen     dodge  cadillac  mercedes-benz  \n",
       "Brand                                                         \n",
       "toyota           1.233577  1.283843  1.288288       1.254717  \n",
       "bmw              1.307079  1.279578  1.990362       3.400614  \n",
       "audi             2.374369  1.970335  2.741461       3.291493  \n",
       "honda            1.821926  1.695513  1.748976       2.317376  \n",
       "acura            1.289273  1.661287  2.570505       3.161745  \n",
       "chrysler         0.944611  1.952222  2.225755       2.275250  \n",
       "volkswagen       1.000000  1.115609  1.479582       1.979755  \n",
       "dodge            1.115609  1.000000  1.671978       1.956826  \n",
       "cadillac         1.479582  1.671978  1.000000       5.736869  \n",
       "mercedes-benz    1.979755  1.956826  5.736869       1.000000  "
      ]
     },
     "metadata": {},
     "output_type": "display_data"
    }
   ],
   "source": [
    "c = top_10_brands\n",
    "c.append('Brand')\n",
    "    \n",
    "lift_scores = pd.DataFrame(lift_scores, columns=c).set_index('Brand')\n",
    "display(lift_scores)"
   ]
  },
  {
   "cell_type": "markdown",
   "id": "baf76869",
   "metadata": {},
   "source": [
    "# Multi-dimensional Scaling Plot"
   ]
  },
  {
   "cell_type": "code",
   "execution_count": 229,
   "id": "c6df0f0d",
   "metadata": {},
   "outputs": [
    {
     "name": "stderr",
     "output_type": "stream",
     "text": [
      "C:\\Users\\HP\\anaconda3\\Lib\\site-packages\\sklearn\\manifold\\_mds.py:298: FutureWarning: The default value of `normalized_stress` will change to `'auto'` in version 1.4. To suppress this warning, manually set the value of `normalized_stress`.\n",
      "  warnings.warn(\n"
     ]
    },
    {
     "data": {
      "image/png": "[encoded data removed]",
      "text/plain": [
       "<Figure size 640x480 with 1 Axes>"
      ]
     },
     "metadata": {},
     "output_type": "display_data"
    }
   ],
   "source": [
    "mds = MDS(n_components=2, dissimilarity='precomputed', random_state=42)\n",
    "mds_result  = mds.fit_transform(1/lift_scores) # inputting dissimilarity as we have calculated similarity\n",
    "\n",
    "# Plot the MDS map\n",
    "plt.scatter(mds_result[:, 0], mds_result[:, 1])\n",
    "\n",
    "# Annotate points with brand names\n",
    "for i, brand in enumerate(lift_scores.index):\n",
    "    plt.annotate(brand, (mds_result[i, 0], mds_result[i, 1]))\n",
    "\n",
    "plt.title(\"Multi-Dimensional Scaling (MDS) Map of Brands based on Lift Scores\")\n",
    "plt.grid(True)\n",
    "plt.show()"
   ]
  },
  {
   "cell_type": "markdown",
   "id": "11a280ff",
   "metadata": {},
   "source": [
    "# Top car attributes discussed"
   ]
  },
  {
   "cell_type": "code",
   "execution_count": 232,
   "id": "faa2aca9",
   "metadata": {},
   "outputs": [
    {
     "name": "stderr",
     "output_type": "stream",
     "text": [
      "[nltk_data] Downloading package stopwords to\n",
      "[nltk_data]     C:\\Users\\HP\\AppData\\Roaming\\nltk_data...\n",
      "[nltk_data]   Package stopwords is already up-to-date!\n"
     ]
    }
   ],
   "source": [
    "# let's remove stop words from the corpus of words\n",
    "\n",
    "nltk.download('stopwords')\n",
    "\n",
    "corpus_words_list = corpus_words.split()\n",
    "\n",
    "stop_words = set(stopwords.words('english'))\n",
    "\n",
    "filtered_corpus = [word for word in corpus_words_list if word.lower() not in stop_words]"
   ]
  },
  {
   "cell_type": "code",
   "execution_count": 239,
   "id": "38907eac",
   "metadata": {},
   "outputs": [],
   "source": [
    "word_counter = Counter(filtered_corpus)\n",
    "top_n = 100  # Change this value to the desired number of top words\n",
    "top_words = word_counter.most_common(top_n)\n",
    "\n",
    "for word, count in top_words:\n",
    "    print(f'{word}: {count}')"
   ]
  },
  {
   "cell_type": "markdown",
   "id": "63cd8f45",
   "metadata": {},
   "source": [
    "With the above we could identify following attributes that were discussed the most by users...\n",
    "\n",
    "price: 601, performance: 448, engine: 434, luxury: 428, tires: 383, look: 355, speed: 337, seats: 334"
   ]
  },
  {
   "cell_type": "code",
   "execution_count": 254,
   "id": "8d5f3256",
   "metadata": {},
   "outputs": [],
   "source": [
    "brand_feature = list(brand_freq['Brand'][:10])\n",
    "features = ['price', 'performance', 'engine', 'luxury', 'tires', 'look', 'speed', 'seats']\n",
    "\n",
    "for feature in features:\n",
    "    brand_feature.append(feature)"
   ]
  },
  {
   "cell_type": "code",
   "execution_count": 255,
   "id": "ec8613dd",
   "metadata": {},
   "outputs": [
    {
     "name": "stderr",
     "output_type": "stream",
     "text": [
      "C:\\Users\\HP\\anaconda3\\Lib\\site-packages\\sklearn\\manifold\\_mds.py:298: FutureWarning: The default value of `normalized_stress` will change to `'auto'` in version 1.4. To suppress this warning, manually set the value of `normalized_stress`.\n",
      "  warnings.warn(\n"
     ]
    },
    {
     "data": {
      "image/png": "[encoded data removed]",
      "text/plain": [
       "<Figure size 640x480 with 1 Axes>"
      ]
     },
     "metadata": {},
     "output_type": "display_data"
    }
   ],
   "source": [
    "lift_scores = []\n",
    "\n",
    "for i in range(len(brand_feature)):\n",
    "    row = []\n",
    "\n",
    "    for j in range(len(brand_feature)):\n",
    "        if j!=i:\n",
    "            lift_score = lift(clean_comments, brand_feature[i], brand_feature[j])\n",
    "            row.append(lift_score)\n",
    "        elif i==j:\n",
    "            row.append(1)\n",
    "    \n",
    "    row.append(brand_feature[i])\n",
    "    lift_scores.append(row)\n",
    "\n",
    "c = brand_feature\n",
    "c.append('Brand')\n",
    "    \n",
    "lift_scores = pd.DataFrame(lift_scores, columns=c).set_index('Brand')\n",
    "\n",
    "\n",
    "\n",
    "mds = MDS(n_components=2, dissimilarity='precomputed', random_state=42)\n",
    "mds_result  = mds.fit_transform(1/lift_scores) # inputting dissimilarity as we have calculated similarity\n",
    "\n",
    "# Plot the MDS map\n",
    "plt.scatter(mds_result[:, 0], mds_result[:, 1])\n",
    "\n",
    "# Annotate points with brand names\n",
    "for i, brand in enumerate(lift_scores.index):\n",
    "    plt.annotate(brand, (mds_result[i, 0], mds_result[i, 1]))\n",
    "\n",
    "plt.title(\"Multi-Dimensional Scaling (MDS) Map of Brands and Attribures based on LIFT Scores\")\n",
    "plt.grid(True)\n",
    "plt.show()"
   ]
  }
 ],
 "metadata": {
  "kernelspec": {
   "display_name": "Python 3 (ipykernel)",
   "language": "python",
   "name": "python3"
  },
  "language_info": {
   "codemirror_mode": {
    "name": "ipython",
    "version": 3
   },
   "file_extension": ".py",
   "mimetype": "text/x-python",
   "name": "python",
   "nbconvert_exporter": "python",
   "pygments_lexer": "ipython3",
   "version": "3.11.5"
  }
 },
 "nbformat": 4,
 "nbformat_minor": 5
}
